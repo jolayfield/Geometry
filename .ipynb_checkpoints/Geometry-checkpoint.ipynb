{
 "cells": [
  {
   "cell_type": "code",
   "execution_count": 42,
   "metadata": {},
   "outputs": [],
   "source": [
    "import numpy as np\n",
    "import math\n",
    "import os \n",
    "import csv \n",
    "import matplotlib.pyplot as plt\n",
    "from mpl_toolkits.mplot3d import Axes3D\n",
    "from matplotlib import cm"
   ]
  },
  {
   "cell_type": "code",
   "execution_count": 43,
   "metadata": {},
   "outputs": [],
   "source": [
    "def distance(i,j):\n",
    "    \"\"\"Calculate the distance between two centers\"\"\"\n",
    "    return math.sqrt(np.sum((np_geom[i]-np_geom[j])**2))\n",
    "def angle(i,j,k):\n",
    "    \"\"\"Calcuate the angle in degrees between three atom centers!!!\"\"\" \n",
    "    eji=(np_geom[i]-np_geom[j])/ distance(i,j)\n",
    "    ejk=(np_geom[k]-np_geom[j])/distance(j,k)\n",
    "    return np.arccos(np.dot(eji,ejk))\n",
    "def out_of_plane(i,j,k,l):\n",
    "    \"\"\"\"Calculate the out of plane angle for three atom centers\n",
    "        Input is the Cartesian geometry for the four atoms positions.\"\"\"\n",
    "    ekl=(l-k)/distance(l,k)\n",
    "    ekj=(j-k)/distance(k,j)\n",
    "    eki=(i-k)/distance(i,k)\n",
    "    temp_ang = angle(j,k,l)\n",
    "    if temp_ang > 1.0:\n",
    "        temp_ang= 1.000\n",
    "    elif temp_ang < -1.0:\n",
    "        temp_ang = -1.000\n",
    "    return(np.arcsin(np.dot(np.cross(ekj,ekl)/np.sin(temp_ang),eki)))\n"
   ]
  },
  {
   "cell_type": "code",
   "execution_count": 76,
   "metadata": {},
   "outputs": [],
   "source": [
    "file1=open('benzene.dat','r')\n",
    "# file1=open('acetaldehyde.dat','r')\n",
    "line=file1.readline()\n",
    "natoms = int(line)\n",
    "atnums=[]\n",
    "geom=[]\n",
    "\n",
    "for line in file1:\n",
    "    columns = line.split()\n",
    "    atnums.append(columns[1])\n",
    "    geom.append(columns[3:])\n",
    "file1.close()\n",
    "\n",
    "np_geom=np.array(geom).astype(float)\n",
    "np_atnums=np.array(atnums).astype(int)\n",
    "dist=np.zeros((natoms,natoms))\n",
    "\n",
    "for i in range(natoms):\n",
    "    for j in range (natoms):\n",
    "        dist[i,j] = distance(i,j)\n",
    "dist = dist *0.529\n",
    "# print(dist)\n"
   ]
  },
  {
   "cell_type": "markdown",
   "metadata": {},
   "source": [
    "Determine the angle out of plane.  \n"
   ]
  },
  {
   "cell_type": "code",
   "execution_count": 77,
   "metadata": {},
   "outputs": [
    {
     "data": {
      "image/png": "[encoded data removed]",
      "text/plain": [
       "<matplotlib.figure.Figure at 0x1141865c0>"
      ]
     },
     "metadata": {},
     "output_type": "display_data"
    }
   ],
   "source": [
    "ang= np.zeros((natoms,natoms,natoms))\n",
    "plt.scatter(np_geom[:,0],np_geom[:,2])\n",
    "for i, txt in enumerate(np_atnums):\n",
    "    plt.annotate(i, (np_geom[i,0],np_geom[i,2]))\n",
    "plt.show()\n",
    "\n",
    "for i in range(natoms):\n",
    "    for j in range(natoms):\n",
    "        for k in range(natoms):\n",
    "            if(i < j and j != k and i!=k and dist[i,j] < 1.7 and dist[j,k] < 1.7):\n",
    "                ang[i,j,k]= angle(i,j,k)          "
   ]
  },
  {
   "cell_type": "markdown",
   "metadata": {},
   "source": [
    "The cell above is trying to calculate the "
   ]
  },
  {
   "cell_type": "code",
   "execution_count": 78,
   "metadata": {},
   "outputs": [
    {
     "name": "stdout",
     "output_type": "stream",
     "text": [
      "Atoms:  0, 1, 2, 3, Dihedral:   0.000\n",
      "Atoms:  0, 1, 2, 9, Dihedral: 180.000\n",
      "Atoms:  0, 5, 4, 3, Dihedral: 180.000\n",
      "Atoms:  0, 5, 4, 7, Dihedral: 180.000\n",
      "Atoms:  1, 0, 5, 4, Dihedral:   0.000\n",
      "Atoms:  1, 0, 5, 6, Dihedral: 180.000\n",
      "Atoms:  1, 2, 3, 4, Dihedral:   0.000\n",
      "Atoms:  1, 2, 3, 8, Dihedral: 180.000\n",
      "Atoms:  2, 1, 0, 5, Dihedral:   0.000\n",
      "Atoms:  2, 1, 0,11, Dihedral: 180.000\n",
      "Atoms:  2, 3, 4, 5, Dihedral: 180.000\n",
      "Atoms:  2, 3, 4, 7, Dihedral: 180.000\n",
      "Atoms:  3, 2, 1, 0, Dihedral:   0.000\n",
      "Atoms:  3, 2, 1,10, Dihedral: 180.000\n",
      "Atoms:  3, 4, 5, 0, Dihedral: 180.000\n",
      "Atoms:  3, 4, 5, 6, Dihedral: 180.000\n",
      "Atoms:  4, 3, 2, 1, Dihedral:   0.000\n",
      "Atoms:  4, 3, 2, 9, Dihedral: 180.000\n",
      "Atoms:  4, 5, 0, 1, Dihedral:   0.000\n",
      "Atoms:  4, 5, 0,11, Dihedral: 180.000\n",
      "Atoms:  5, 0, 1, 2, Dihedral:   0.000\n",
      "Atoms:  5, 0, 1,10, Dihedral: 180.000\n",
      "Atoms:  5, 4, 3, 2, Dihedral: 180.000\n",
      "Atoms:  5, 4, 3, 8, Dihedral: 180.000\n",
      "Atoms:  6, 5, 0, 1, Dihedral: 180.000\n",
      "Atoms:  6, 5, 0,11, Dihedral:   0.000\n",
      "Atoms:  6, 5, 4, 3, Dihedral: 180.000\n",
      "Atoms:  6, 5, 4, 7, Dihedral: 180.000\n",
      "Atoms:  7, 4, 3, 2, Dihedral: 180.000\n",
      "Atoms:  7, 4, 3, 8, Dihedral:   0.000\n",
      "Atoms:  7, 4, 5, 0, Dihedral: 180.000\n",
      "Atoms:  7, 4, 5, 6, Dihedral: 180.000\n",
      "Atoms:  8, 3, 2, 1, Dihedral: 180.000\n",
      "Atoms:  8, 3, 2, 9, Dihedral:   0.000\n",
      "Atoms:  8, 3, 4, 5, Dihedral: 180.000\n",
      "Atoms:  8, 3, 4, 7, Dihedral:   0.000\n",
      "Atoms:  9, 2, 1, 0, Dihedral: 180.000\n",
      "Atoms:  9, 2, 1,10, Dihedral:   0.000\n",
      "Atoms:  9, 2, 3, 4, Dihedral: 180.000\n",
      "Atoms:  9, 2, 3, 8, Dihedral:   0.000\n",
      "Atoms: 10, 1, 0, 5, Dihedral: 180.000\n",
      "Atoms: 10, 1, 0,11, Dihedral:   0.000\n",
      "Atoms: 10, 1, 2, 3, Dihedral: 180.000\n",
      "Atoms: 10, 1, 2, 9, Dihedral:   0.000\n",
      "Atoms: 11, 0, 1, 2, Dihedral: 180.000\n",
      "Atoms: 11, 0, 1,10, Dihedral:   0.000\n",
      "Atoms: 11, 0, 5, 4, Dihedral: 180.000\n",
      "Atoms: 11, 0, 5, 6, Dihedral:   0.000\n"
     ]
    }
   ],
   "source": [
    "def dihedral(i,j,k,l):\n",
    "    \"\"\"Calculate the dihedral angle for four atom centers\n",
    "    Input is the index for the four atoms.\"\"\"\n",
    "    eij=(np_geom[j]-np_geom[i])/distance(i,j)\n",
    "    ejk=(np_geom[k]-np_geom[j])/distance(j,k)\n",
    "    ekl=(np_geom[l]-np_geom[k])/distance(l,k)\n",
    "    temp_ang1=np.sin(angle(i,j,k))\n",
    "    temp_ang2=np.sin(angle(j,k,l))\n",
    "    if abs(temp_ang1) >= 1.0 or abs(temp_ang2) >= 1.0:\n",
    "        return 0.000\n",
    "    else:\n",
    "        if(abs(np.dot(np.cross(eij,ejk),np.cross(ejk,ekl))/(temp_ang1*temp_ang2))>1.0):\n",
    "            return math.pi\n",
    "        else:\n",
    "            return(np.arccos(np.dot(np.cross(eij,ejk),np.cross(ejk,ekl))/(temp_ang1*temp_ang2)))\n",
    "    \n",
    "oop= np.zeros((natoms,natoms,natoms,natoms))\n",
    "dih= np.zeros((natoms,natoms,natoms,natoms))\n",
    "\n",
    "for i in range(natoms):\n",
    "    for j in range(natoms):\n",
    "        for k in range(natoms):\n",
    "            for l in range(natoms):\n",
    "                if (i != j and i != k and i != l and j != k and j != l and k != l):\n",
    "                    if (dist[i,j] < 1.7 and dist[j,k] < 1.7 and dist[k,l] < 1.7):\n",
    "#                         oop[i,j,k,l] = out_of_plane(np_geom[i],np_geom[j],np_geom[k],np_geom[l])\n",
    "                        dih[i,j,k,l] = dihedral(i,j,k,l)\n",
    "                        print(\"Atoms: {0:2d},{1:2d},{2:2d},{3:2d}, Dihedral: {4:7.3f}\".format(i,j,k,l,180.0/math.pi*dih[i,j,k,l]))"
   ]
  },
  {
   "cell_type": "code",
   "execution_count": null,
   "metadata": {},
   "outputs": [],
   "source": []
  },
  {
   "cell_type": "code",
   "execution_count": null,
   "metadata": {},
   "outputs": [],
   "source": []
  }
 ],
 "metadata": {
  "kernelspec": {
   "display_name": "Python 3",
   "language": "python",
   "name": "python3"
  },
  "language_info": {
   "codemirror_mode": {
    "name": "ipython",
    "version": 3
   },
   "file_extension": ".py",
   "mimetype": "text/x-python",
   "name": "python",
   "nbconvert_exporter": "python",
   "pygments_lexer": "ipython3",
   "version": "3.6.4"
  }
 },
 "nbformat": 4,
 "nbformat_minor": 2
}
