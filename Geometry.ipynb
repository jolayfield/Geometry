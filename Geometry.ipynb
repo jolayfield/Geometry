{
 "cells": [
  {
   "cell_type": "markdown",
   "metadata": {},
   "source": [
    "Import Libraries"
   ]
  },
  {
   "cell_type": "code",
   "execution_count": 176,
   "metadata": {},
   "outputs": [],
   "source": [
    "import numpy as np\n",
    "import math\n",
    "import os \n",
    "import csv \n",
    "import matplotlib.pyplot as plt\n",
    "from mpl_toolkits.mplot3d import Axes3D\n",
    "from matplotlib import cm\n",
    "masses={1:1.007825,2:4.003,3:6.941,4:9.012,5:10.81,6:12.00,7:14.01,8:15.9949,9:19.00}"
   ]
  },
  {
   "cell_type": "markdown",
   "metadata": {},
   "source": [
    "Functions to calculate all of the necessary geometric parameters"
   ]
  },
  {
   "cell_type": "code",
   "execution_count": 177,
   "metadata": {},
   "outputs": [],
   "source": [
    "def distance(i,j):\n",
    "    \"\"\"Calculate the distance between two centers\"\"\"\n",
    "    return math.sqrt(np.sum((np_geom[i]-np_geom[j])**2))\n",
    "def angle(i,j,k):\n",
    "    \"\"\"Calcuate the angle in degrees between three atom centers!!!\"\"\" \n",
    "    eji=(np_geom[i]-np_geom[j])/ distance(i,j)\n",
    "    ejk=(np_geom[k]-np_geom[j])/distance(j,k)\n",
    "    return np.arccos(np.dot(eji,ejk))\n",
    "def out_of_plane(i,j,k,l):\n",
    "    \"\"\"\"Calculate the out of plane angle for three atom centers\n",
    "        Input is the index for the four atom positions found in np_geom.\"\"\"\n",
    "    ekl=(np_geom[l]-np_geom[k])/distance(l,k)\n",
    "    ekj=(np_geom[j]-np_geom[k])/distance(k,j)\n",
    "    eki=(np_geom[i]-np_geom[k])/distance(i,k)\n",
    "    temp_ang = angle(j,k,l)\n",
    "    if temp_ang > 1.0:\n",
    "        temp_ang= 1.000\n",
    "    elif temp_ang < -1.0:\n",
    "        temp_ang = -1.000\n",
    "    return(np.arcsin(np.dot(np.cross(ekj,ekl)/np.sin(temp_ang),eki)))\n",
    "\n",
    "def dihedral(i,j,k,l):\n",
    "    \"\"\"Calculate the dihedral angle for four atom centers\n",
    "    Input is the index for the four atoms.\"\"\"\n",
    "    eij=(np_geom[j]-np_geom[i])/distance(i,j)\n",
    "    ejk=(np_geom[k]-np_geom[j])/distance(j,k)\n",
    "    ekl=(np_geom[l]-np_geom[k])/distance(l,k)\n",
    "    temp_ang1=np.sin(angle(i,j,k))\n",
    "    temp_ang2=np.sin(angle(j,k,l))\n",
    "    if abs(temp_ang1) >= 1.0 or abs(temp_ang2) >= 1.0:\n",
    "        return 0.000\n",
    "    else:\n",
    "        if(abs(np.dot(np.cross(eij,ejk),np.cross(ejk,ekl))/(temp_ang1*temp_ang2))>1.0):\n",
    "            return math.pi\n",
    "        else:\n",
    "            return(np.arccos(np.dot(np.cross(eij,ejk),np.cross(ejk,ekl))/(temp_ang1*temp_ang2)))\n",
    "\n",
    "def COM(anums,geoms):\n",
    "    \"\"\"Calculate the center of mass for a given molecule with the atomic numbers and positions\"\"\"\n",
    "    com=np.zeros(3)\n",
    "    atmass=0.\n",
    "    for i in range(natoms):\n",
    "        com = com + masses[anums[i]]*geoms[i]\n",
    "        atmass = atmass + masses[anums[i]]\n",
    "    return (com/atmass)"
   ]
  },
  {
   "cell_type": "markdown",
   "metadata": {},
   "source": [
    "Section to read in the coordinates from a file.  The geometric coordinates are then stored in numpy arrays called np_atnums and np_geom.  "
   ]
  },
  {
   "cell_type": "code",
   "execution_count": 178,
   "metadata": {},
   "outputs": [
    {
     "name": "stdout",
     "output_type": "stream",
     "text": [
      "[0.645 0.    2.317]\n"
     ]
    }
   ],
   "source": [
    "# file1=open('benzene.dat','r')/\n",
    "file1=open('acetaldehyde.dat','r')\n",
    "line=file1.readline()\n",
    "natoms = int(line)\n",
    "atnums=[]\n",
    "geom=[]\n",
    "\n",
    "for line in file1:\n",
    "    columns = line.split()\n",
    "    atnums.append(columns[1])\n",
    "    geom.append(columns[3:])\n",
    "file1.close()\n",
    "\n",
    "np_geom=np.array(geom).astype(float)\n",
    "np_atnums=np.array(atnums).astype(int)\n",
    "print(COM(np_atnums,np_geom))\n",
    "np_geom=np_geom-COM(np_atnums,np_geom)"
   ]
  },
  {
   "cell_type": "markdown",
   "metadata": {},
   "source": [
    "Calculate the Bond Distances"
   ]
  },
  {
   "cell_type": "code",
   "execution_count": 179,
   "metadata": {},
   "outputs": [],
   "source": [
    "dist=np.zeros((natoms,natoms))\n",
    "\n",
    "for i in range(natoms):\n",
    "    for j in range (natoms):\n",
    "        dist[i,j] = distance(i,j)\n",
    "dist = dist *0.529\n",
    "# print(dist)"
   ]
  },
  {
   "cell_type": "code",
   "execution_count": 180,
   "metadata": {},
   "outputs": [
    {
     "data": {
      "image/png": "[encoded data removed]",
      "text/plain": [
       "<matplotlib.figure.Figure at 0x107f02e48>"
      ]
     },
     "metadata": {},
     "output_type": "display_data"
    }
   ],
   "source": [
    "plt.scatter(np_geom[:,0],np_geom[:,2])\n",
    "for i, txt in enumerate(np_atnums):\n",
    "    plt.annotate(i, (np_geom[i,0],np_geom[i,2]))\n",
    "plt.show()"
   ]
  },
  {
   "cell_type": "markdown",
   "metadata": {},
   "source": [
    "Calculate all of the bond angles\n"
   ]
  },
  {
   "cell_type": "code",
   "execution_count": 181,
   "metadata": {},
   "outputs": [
    {
     "name": "stdout",
     "output_type": "stream",
     "text": [
      "0 1 2 124.26830826072015\n",
      "0 1 3 115.4793409840136\n",
      "0 4 5 35.10952898770736\n",
      "0 4 6 35.10952898770736\n",
      "0 5 4 34.93678870270001\n",
      "0 5 6 36.373677061387795\n",
      "0 6 4 34.93678870270001\n",
      "0 6 5 36.373677061387795\n",
      "4 5 0 34.93678870270001\n",
      "4 5 6 60.48447613677994\n",
      "4 6 0 34.93678870270001\n",
      "4 6 5 60.48447613677994\n",
      "5 6 0 36.373677061387795\n",
      "5 6 4 60.48447613677994\n"
     ]
    }
   ],
   "source": [
    "ang= np.zeros((natoms,natoms,natoms))\n",
    "for i in range(natoms):\n",
    "    for j in range(natoms):\n",
    "        for k in range(natoms):\n",
    "            if(i < j and j != k and i!=k and dist[i,j] < 2 and dist[j,k] < 2):\n",
    "                ang[i,j,k]= angle(i,j,k)\n",
    "                print(i,j,k,ang[i,j,k]*180/math.pi)"
   ]
  },
  {
   "cell_type": "markdown",
   "metadata": {},
   "source": [
    "Calculate the dihedral and out-of-plane angles"
   ]
  },
  {
   "cell_type": "code",
   "execution_count": 182,
   "metadata": {},
   "outputs": [
    {
     "name": "stdout",
     "output_type": "stream",
     "text": [
      "Atoms:  2, 1, 0, 4, Dihedral:   0.000\n",
      "Atoms:  2, 1, 0, 5, Dihedral: 121.098\n",
      "Atoms:  2, 1, 0, 6, Dihedral: 121.098\n",
      "Atoms:  3, 1, 0, 4, Dihedral: 180.000\n",
      "Atoms:  3, 1, 0, 5, Dihedral:  58.902\n",
      "Atoms:  3, 1, 0, 6, Dihedral:  58.902\n",
      "Atoms:  4, 0, 1, 2, Dihedral:   0.000\n",
      "Atoms:  4, 0, 1, 3, Dihedral: 180.000\n",
      "Atoms:  5, 0, 1, 2, Dihedral: 121.098\n",
      "Atoms:  5, 0, 1, 3, Dihedral:  58.902\n",
      "Atoms:  6, 0, 1, 2, Dihedral: 121.098\n",
      "Atoms:  6, 0, 1, 3, Dihedral:  58.902\n"
     ]
    }
   ],
   "source": [
    "oop= np.zeros((natoms,natoms,natoms,natoms))\n",
    "dih= np.zeros((natoms,natoms,natoms,natoms))\n",
    "\n",
    "for i in range(natoms):\n",
    "    for j in range(natoms):\n",
    "        for k in range(natoms):\n",
    "            for l in range(natoms):\n",
    "                if (i != j and i != k and i != l and j != k and j != l and k != l):\n",
    "                    if (dist[i,j] < 1.7 and dist[j,k] < 1.7 and dist[k,l] < 1.7):\n",
    "                        dih[i,j,k,l] = dihedral(i,j,k,l)\n",
    "                        oop[i,j,k,l] = out_of_plane(i,j,k,l)\n",
    "                        print(\"Atoms: {0:2d},{1:2d},{2:2d},{3:2d}, Dihedral: {4:7.3f}\".format(i,j,k,l,180.0/math.pi*dih[i,j,k,l]))\n",
    "#                         print(\"Atoms: {0:2d},{1:2d},{2:2d},{3:2d}, Out of Plane: {4:7.3f}\".format(i,j,k,l,180.0/math.pi*oop[i,j,k,l]))"
   ]
  },
  {
   "cell_type": "markdown",
   "metadata": {},
   "source": [
    "Calculate the Moments of Inertia"
   ]
  },
  {
   "cell_type": "code",
   "execution_count": 203,
   "metadata": {},
   "outputs": [
    {
     "name": "stdout",
     "output_type": "stream",
     "text": [
      "[[-0.645  0.    -2.317]\n",
      " [-0.645  0.     0.528]\n",
      " [ 1.254  0.     1.822]\n",
      " [-2.539  0.     1.431]\n",
      " [ 1.298  0.    -3.018]\n",
      " [-1.652 -1.67  -3.023]\n",
      " [-1.652  1.67  -3.023]]\n",
      "[-0.  0. -0.]\n",
      "[[156.154   0.     52.856]\n",
      " [  0.    199.371   0.   ]\n",
      " [ 52.856   0.     54.46 ]]\n"
     ]
    }
   ],
   "source": [
    "print(np_geom)\n",
    "print(COM(np_atnums,np_geom))\n",
    "II = np.zeros((3,3))\n",
    "for i in range(natoms):\n",
    "    II[0,0] = II[0,0] + masses[np_atnums[i]]*(np_geom[i,1]**2+np_geom[i,2]**2)\n",
    "    II[1,1] = II[1,1] + masses[np_atnums[i]]*(np_geom[i,0]**2+np_geom[i,2]**2)\n",
    "    II[2,2] = II[2,2] + masses[np_atnums[i]]*(np_geom[i,0]**2+np_geom[i,1]**2)\n",
    "    for j in range(3):\n",
    "        for k in range(3):\n",
    "            if(j != k):\n",
    "                II[j,k] = II[j,k] + masses[np_atnums[i]]*np_geom[i,j]*np_geom[i,k]\n",
    "print(II)\n",
    "            "
   ]
  },
  {
   "cell_type": "code",
   "execution_count": 204,
   "metadata": {},
   "outputs": [],
   "source": [
    "w,v=np.linalg.eigh(II)"
   ]
  },
  {
   "cell_type": "code",
   "execution_count": 207,
   "metadata": {},
   "outputs": [
    {
     "name": "stdout",
     "output_type": "stream",
     "text": [
      "[[-0.392  0.92   0.   ]\n",
      " [ 0.     0.    -1.   ]\n",
      " [ 0.92   0.392  0.   ]]\n"
     ]
    }
   ],
   "source": [
    "print(v)"
   ]
  },
  {
   "cell_type": "code",
   "execution_count": null,
   "metadata": {},
   "outputs": [],
   "source": []
  },
  {
   "cell_type": "code",
   "execution_count": null,
   "metadata": {},
   "outputs": [],
   "source": []
  },
  {
   "cell_type": "code",
   "execution_count": null,
   "metadata": {},
   "outputs": [],
   "source": []
  },
  {
   "cell_type": "code",
   "execution_count": null,
   "metadata": {},
   "outputs": [],
   "source": []
  },
  {
   "cell_type": "code",
   "execution_count": null,
   "metadata": {},
   "outputs": [],
   "source": []
  },
  {
   "cell_type": "code",
   "execution_count": null,
   "metadata": {},
   "outputs": [],
   "source": []
  },
  {
   "cell_type": "code",
   "execution_count": null,
   "metadata": {},
   "outputs": [],
   "source": []
  },
  {
   "cell_type": "code",
   "execution_count": null,
   "metadata": {},
   "outputs": [],
   "source": []
  },
  {
   "cell_type": "code",
   "execution_count": null,
   "metadata": {},
   "outputs": [],
   "source": []
  },
  {
   "cell_type": "code",
   "execution_count": null,
   "metadata": {},
   "outputs": [],
   "source": []
  },
  {
   "cell_type": "code",
   "execution_count": null,
   "metadata": {},
   "outputs": [],
   "source": []
  },
  {
   "cell_type": "code",
   "execution_count": null,
   "metadata": {},
   "outputs": [],
   "source": []
  },
  {
   "cell_type": "code",
   "execution_count": null,
   "metadata": {},
   "outputs": [],
   "source": []
  },
  {
   "cell_type": "code",
   "execution_count": null,
   "metadata": {},
   "outputs": [],
   "source": []
  },
  {
   "cell_type": "code",
   "execution_count": null,
   "metadata": {},
   "outputs": [],
   "source": []
  },
  {
   "cell_type": "code",
   "execution_count": null,
   "metadata": {},
   "outputs": [],
   "source": []
  },
  {
   "cell_type": "code",
   "execution_count": null,
   "metadata": {},
   "outputs": [],
   "source": []
  }
 ],
 "metadata": {
  "kernelspec": {
   "display_name": "Python 3",
   "language": "python",
   "name": "python3"
  },
  "language_info": {
   "codemirror_mode": {
    "name": "ipython",
    "version": 3
   },
   "file_extension": ".py",
   "mimetype": "text/x-python",
   "name": "python",
   "nbconvert_exporter": "python",
   "pygments_lexer": "ipython3",
   "version": "3.6.4"
  }
 },
 "nbformat": 4,
 "nbformat_minor": 2
}
